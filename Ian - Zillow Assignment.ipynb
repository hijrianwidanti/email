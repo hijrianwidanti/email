{
 "cells": [
  {
   "cell_type": "markdown",
   "id": "0acb78cb",
   "metadata": {},
   "source": [
    "# Group Assignment 1 - Zillow (San Fransisco)"
   ]
  },
  {
   "cell_type": "code",
   "execution_count": 1,
   "id": "dccd3ffc",
   "metadata": {},
   "outputs": [],
   "source": [
    "# Import data and Plot\n",
    "\n",
    "import numpy as np\n",
    "import pandas as pd\n",
    "from pandas import Series,DataFrame\n",
    "import matplotlib.pyplot as plt\n",
    "import seaborn as sns\n",
    "sns.set_style('whitegrid')\n",
    "%matplotlib inline\n",
    "import statsmodels.formula.api as smf"
   ]
  },
  {
   "cell_type": "code",
   "execution_count": 2,
   "id": "e8e848b2",
   "metadata": {},
   "outputs": [],
   "source": [
    "# Load the zillow dataset\n",
    "\n",
    "zillow = pd.read_csv('zillow_housing_data.csv')"
   ]
  },
  {
   "cell_type": "code",
   "execution_count": 3,
   "id": "cb1c25c7",
   "metadata": {},
   "outputs": [
    {
     "name": "stdout",
     "output_type": "stream",
     "text": [
      "<class 'pandas.core.frame.DataFrame'>\n",
      "RangeIndex: 22515 entries, 0 to 22514\n",
      "Columns: 284 entries, RegionID to 2022-12-31\n",
      "dtypes: float64(276), int64(2), object(6)\n",
      "memory usage: 48.8+ MB\n"
     ]
    }
   ],
   "source": [
    "# Check the dataset\n",
    "\n",
    "zillow.info()"
   ]
  },
  {
   "cell_type": "code",
   "execution_count": 4,
   "id": "8bf64a89",
   "metadata": {},
   "outputs": [
    {
     "data": {
      "text/html": [
       "<div>\n",
       "<style scoped>\n",
       "    .dataframe tbody tr th:only-of-type {\n",
       "        vertical-align: middle;\n",
       "    }\n",
       "\n",
       "    .dataframe tbody tr th {\n",
       "        vertical-align: top;\n",
       "    }\n",
       "\n",
       "    .dataframe thead th {\n",
       "        text-align: right;\n",
       "    }\n",
       "</style>\n",
       "<table border=\"1\" class=\"dataframe\">\n",
       "  <thead>\n",
       "    <tr style=\"text-align: right;\">\n",
       "      <th></th>\n",
       "      <th>RegionID</th>\n",
       "      <th>SizeRank</th>\n",
       "      <th>RegionName</th>\n",
       "      <th>RegionType</th>\n",
       "      <th>StateName</th>\n",
       "      <th>State</th>\n",
       "      <th>Metro</th>\n",
       "      <th>CountyName</th>\n",
       "      <th>2000-01-31</th>\n",
       "      <th>2000-02-29</th>\n",
       "      <th>...</th>\n",
       "      <th>2022-03-31</th>\n",
       "      <th>2022-04-30</th>\n",
       "      <th>2022-05-31</th>\n",
       "      <th>2022-06-30</th>\n",
       "      <th>2022-07-31</th>\n",
       "      <th>2022-08-31</th>\n",
       "      <th>2022-09-30</th>\n",
       "      <th>2022-10-31</th>\n",
       "      <th>2022-11-30</th>\n",
       "      <th>2022-12-31</th>\n",
       "    </tr>\n",
       "  </thead>\n",
       "  <tbody>\n",
       "    <tr>\n",
       "      <th>0</th>\n",
       "      <td>6181</td>\n",
       "      <td>0</td>\n",
       "      <td>New York</td>\n",
       "      <td>city</td>\n",
       "      <td>NY</td>\n",
       "      <td>NY</td>\n",
       "      <td>New York-Newark-Jersey City, NY-NJ-PA</td>\n",
       "      <td>Queens County</td>\n",
       "      <td>253041.0</td>\n",
       "      <td>254862.0</td>\n",
       "      <td>...</td>\n",
       "      <td>754795.0</td>\n",
       "      <td>760368.0</td>\n",
       "      <td>766827.0</td>\n",
       "      <td>771961.0</td>\n",
       "      <td>775700.0</td>\n",
       "      <td>777962.0</td>\n",
       "      <td>779620.0</td>\n",
       "      <td>781589.0</td>\n",
       "      <td>782747.0</td>\n",
       "      <td>782365.0</td>\n",
       "    </tr>\n",
       "    <tr>\n",
       "      <th>1</th>\n",
       "      <td>12447</td>\n",
       "      <td>1</td>\n",
       "      <td>Los Angeles</td>\n",
       "      <td>city</td>\n",
       "      <td>CA</td>\n",
       "      <td>CA</td>\n",
       "      <td>Los Angeles-Long Beach-Anaheim, CA</td>\n",
       "      <td>Los Angeles County</td>\n",
       "      <td>235321.0</td>\n",
       "      <td>235542.0</td>\n",
       "      <td>...</td>\n",
       "      <td>958517.0</td>\n",
       "      <td>977905.0</td>\n",
       "      <td>995212.0</td>\n",
       "      <td>997168.0</td>\n",
       "      <td>997462.0</td>\n",
       "      <td>982958.0</td>\n",
       "      <td>971301.0</td>\n",
       "      <td>956808.0</td>\n",
       "      <td>953225.0</td>\n",
       "      <td>950715.0</td>\n",
       "    </tr>\n",
       "    <tr>\n",
       "      <th>2</th>\n",
       "      <td>39051</td>\n",
       "      <td>2</td>\n",
       "      <td>Houston</td>\n",
       "      <td>city</td>\n",
       "      <td>TX</td>\n",
       "      <td>TX</td>\n",
       "      <td>Houston-The Woodlands-Sugar Land, TX</td>\n",
       "      <td>Harris County</td>\n",
       "      <td>108985.0</td>\n",
       "      <td>108995.0</td>\n",
       "      <td>...</td>\n",
       "      <td>256238.0</td>\n",
       "      <td>260901.0</td>\n",
       "      <td>265355.0</td>\n",
       "      <td>268695.0</td>\n",
       "      <td>270851.0</td>\n",
       "      <td>272191.0</td>\n",
       "      <td>272430.0</td>\n",
       "      <td>273037.0</td>\n",
       "      <td>273431.0</td>\n",
       "      <td>273295.0</td>\n",
       "    </tr>\n",
       "    <tr>\n",
       "      <th>3</th>\n",
       "      <td>17426</td>\n",
       "      <td>3</td>\n",
       "      <td>Chicago</td>\n",
       "      <td>city</td>\n",
       "      <td>IL</td>\n",
       "      <td>IL</td>\n",
       "      <td>Chicago-Naperville-Elgin, IL-IN-WI</td>\n",
       "      <td>Cook County</td>\n",
       "      <td>164384.0</td>\n",
       "      <td>164777.0</td>\n",
       "      <td>...</td>\n",
       "      <td>305046.0</td>\n",
       "      <td>306378.0</td>\n",
       "      <td>309186.0</td>\n",
       "      <td>311339.0</td>\n",
       "      <td>312572.0</td>\n",
       "      <td>312253.0</td>\n",
       "      <td>312097.0</td>\n",
       "      <td>312197.0</td>\n",
       "      <td>312381.0</td>\n",
       "      <td>310452.0</td>\n",
       "    </tr>\n",
       "    <tr>\n",
       "      <th>4</th>\n",
       "      <td>6915</td>\n",
       "      <td>4</td>\n",
       "      <td>San Antonio</td>\n",
       "      <td>city</td>\n",
       "      <td>TX</td>\n",
       "      <td>TX</td>\n",
       "      <td>San Antonio-New Braunfels, TX</td>\n",
       "      <td>Bexar County</td>\n",
       "      <td>114772.0</td>\n",
       "      <td>114952.0</td>\n",
       "      <td>...</td>\n",
       "      <td>284072.0</td>\n",
       "      <td>289683.0</td>\n",
       "      <td>294718.0</td>\n",
       "      <td>297669.0</td>\n",
       "      <td>298737.0</td>\n",
       "      <td>299066.0</td>\n",
       "      <td>298893.0</td>\n",
       "      <td>298380.0</td>\n",
       "      <td>298942.0</td>\n",
       "      <td>297568.0</td>\n",
       "    </tr>\n",
       "  </tbody>\n",
       "</table>\n",
       "<p>5 rows × 284 columns</p>\n",
       "</div>"
      ],
      "text/plain": [
       "   RegionID  SizeRank   RegionName RegionType StateName State  \\\n",
       "0      6181         0     New York       city        NY    NY   \n",
       "1     12447         1  Los Angeles       city        CA    CA   \n",
       "2     39051         2      Houston       city        TX    TX   \n",
       "3     17426         3      Chicago       city        IL    IL   \n",
       "4      6915         4  San Antonio       city        TX    TX   \n",
       "\n",
       "                                   Metro          CountyName  2000-01-31  \\\n",
       "0  New York-Newark-Jersey City, NY-NJ-PA       Queens County    253041.0   \n",
       "1     Los Angeles-Long Beach-Anaheim, CA  Los Angeles County    235321.0   \n",
       "2   Houston-The Woodlands-Sugar Land, TX       Harris County    108985.0   \n",
       "3     Chicago-Naperville-Elgin, IL-IN-WI         Cook County    164384.0   \n",
       "4          San Antonio-New Braunfels, TX        Bexar County    114772.0   \n",
       "\n",
       "   2000-02-29  ...  2022-03-31  2022-04-30  2022-05-31  2022-06-30  \\\n",
       "0    254862.0  ...    754795.0    760368.0    766827.0    771961.0   \n",
       "1    235542.0  ...    958517.0    977905.0    995212.0    997168.0   \n",
       "2    108995.0  ...    256238.0    260901.0    265355.0    268695.0   \n",
       "3    164777.0  ...    305046.0    306378.0    309186.0    311339.0   \n",
       "4    114952.0  ...    284072.0    289683.0    294718.0    297669.0   \n",
       "\n",
       "   2022-07-31  2022-08-31  2022-09-30  2022-10-31  2022-11-30  2022-12-31  \n",
       "0    775700.0    777962.0    779620.0    781589.0    782747.0    782365.0  \n",
       "1    997462.0    982958.0    971301.0    956808.0    953225.0    950715.0  \n",
       "2    270851.0    272191.0    272430.0    273037.0    273431.0    273295.0  \n",
       "3    312572.0    312253.0    312097.0    312197.0    312381.0    310452.0  \n",
       "4    298737.0    299066.0    298893.0    298380.0    298942.0    297568.0  \n",
       "\n",
       "[5 rows x 284 columns]"
      ]
     },
     "execution_count": 4,
     "metadata": {},
     "output_type": "execute_result"
    }
   ],
   "source": [
    "# Show the first 5 rows of the dataset\n",
    "\n",
    "zillow.head()"
   ]
  },
  {
   "cell_type": "code",
   "execution_count": 5,
   "id": "76b019aa",
   "metadata": {},
   "outputs": [],
   "source": [
    "# Choose San Fransisco and save it as new dataframe\n",
    "\n",
    "zillow_sf = zillow[(zillow['RegionName'] == 'San Francisco') & (zillow['RegionType'] == 'city')]"
   ]
  },
  {
   "cell_type": "code",
   "execution_count": 6,
   "id": "aae4e9e5",
   "metadata": {},
   "outputs": [
    {
     "data": {
      "text/html": [
       "<div>\n",
       "<style scoped>\n",
       "    .dataframe tbody tr th:only-of-type {\n",
       "        vertical-align: middle;\n",
       "    }\n",
       "\n",
       "    .dataframe tbody tr th {\n",
       "        vertical-align: top;\n",
       "    }\n",
       "\n",
       "    .dataframe thead th {\n",
       "        text-align: right;\n",
       "    }\n",
       "</style>\n",
       "<table border=\"1\" class=\"dataframe\">\n",
       "  <thead>\n",
       "    <tr style=\"text-align: right;\">\n",
       "      <th></th>\n",
       "      <th>RegionID</th>\n",
       "      <th>SizeRank</th>\n",
       "      <th>RegionName</th>\n",
       "      <th>RegionType</th>\n",
       "      <th>StateName</th>\n",
       "      <th>State</th>\n",
       "      <th>Metro</th>\n",
       "      <th>CountyName</th>\n",
       "      <th>2000-01-31</th>\n",
       "      <th>2000-02-29</th>\n",
       "      <th>...</th>\n",
       "      <th>2022-03-31</th>\n",
       "      <th>2022-04-30</th>\n",
       "      <th>2022-05-31</th>\n",
       "      <th>2022-06-30</th>\n",
       "      <th>2022-07-31</th>\n",
       "      <th>2022-08-31</th>\n",
       "      <th>2022-09-30</th>\n",
       "      <th>2022-10-31</th>\n",
       "      <th>2022-11-30</th>\n",
       "      <th>2022-12-31</th>\n",
       "    </tr>\n",
       "  </thead>\n",
       "  <tbody>\n",
       "    <tr>\n",
       "      <th>14</th>\n",
       "      <td>20330</td>\n",
       "      <td>14</td>\n",
       "      <td>San Francisco</td>\n",
       "      <td>city</td>\n",
       "      <td>CA</td>\n",
       "      <td>CA</td>\n",
       "      <td>San Francisco-Oakland-Berkeley, CA</td>\n",
       "      <td>San Francisco County</td>\n",
       "      <td>449241.0</td>\n",
       "      <td>451985.0</td>\n",
       "      <td>...</td>\n",
       "      <td>1558207.0</td>\n",
       "      <td>1581600.0</td>\n",
       "      <td>1587652.0</td>\n",
       "      <td>1580236.0</td>\n",
       "      <td>1553500.0</td>\n",
       "      <td>1521513.0</td>\n",
       "      <td>1489008.0</td>\n",
       "      <td>1466578.0</td>\n",
       "      <td>1447627.0</td>\n",
       "      <td>1438754.0</td>\n",
       "    </tr>\n",
       "  </tbody>\n",
       "</table>\n",
       "<p>1 rows × 284 columns</p>\n",
       "</div>"
      ],
      "text/plain": [
       "    RegionID  SizeRank     RegionName RegionType StateName State  \\\n",
       "14     20330        14  San Francisco       city        CA    CA   \n",
       "\n",
       "                                 Metro            CountyName  2000-01-31  \\\n",
       "14  San Francisco-Oakland-Berkeley, CA  San Francisco County    449241.0   \n",
       "\n",
       "    2000-02-29  ...  2022-03-31  2022-04-30  2022-05-31  2022-06-30  \\\n",
       "14    451985.0  ...   1558207.0   1581600.0   1587652.0   1580236.0   \n",
       "\n",
       "    2022-07-31  2022-08-31  2022-09-30  2022-10-31  2022-11-30  2022-12-31  \n",
       "14   1553500.0   1521513.0   1489008.0   1466578.0   1447627.0   1438754.0  \n",
       "\n",
       "[1 rows x 284 columns]"
      ]
     },
     "execution_count": 6,
     "metadata": {},
     "output_type": "execute_result"
    }
   ],
   "source": [
    "# Show the dataset\n",
    "\n",
    "zillow_sf"
   ]
  },
  {
   "cell_type": "code",
   "execution_count": 7,
   "id": "bf07213e",
   "metadata": {},
   "outputs": [
    {
     "data": {
      "text/html": [
       "<div>\n",
       "<style scoped>\n",
       "    .dataframe tbody tr th:only-of-type {\n",
       "        vertical-align: middle;\n",
       "    }\n",
       "\n",
       "    .dataframe tbody tr th {\n",
       "        vertical-align: top;\n",
       "    }\n",
       "\n",
       "    .dataframe thead th {\n",
       "        text-align: right;\n",
       "    }\n",
       "</style>\n",
       "<table border=\"1\" class=\"dataframe\">\n",
       "  <thead>\n",
       "    <tr style=\"text-align: right;\">\n",
       "      <th></th>\n",
       "      <th>RegionID</th>\n",
       "      <th>SizeRank</th>\n",
       "      <th>2000-01-31</th>\n",
       "      <th>2000-02-29</th>\n",
       "      <th>2000-03-31</th>\n",
       "      <th>2000-04-30</th>\n",
       "      <th>2000-05-31</th>\n",
       "      <th>2000-06-30</th>\n",
       "      <th>2000-07-31</th>\n",
       "      <th>2000-08-31</th>\n",
       "      <th>...</th>\n",
       "      <th>2022-03-31</th>\n",
       "      <th>2022-04-30</th>\n",
       "      <th>2022-05-31</th>\n",
       "      <th>2022-06-30</th>\n",
       "      <th>2022-07-31</th>\n",
       "      <th>2022-08-31</th>\n",
       "      <th>2022-09-30</th>\n",
       "      <th>2022-10-31</th>\n",
       "      <th>2022-11-30</th>\n",
       "      <th>2022-12-31</th>\n",
       "    </tr>\n",
       "  </thead>\n",
       "  <tbody>\n",
       "    <tr>\n",
       "      <th>count</th>\n",
       "      <td>1.0</td>\n",
       "      <td>1.0</td>\n",
       "      <td>1.0</td>\n",
       "      <td>1.0</td>\n",
       "      <td>1.0</td>\n",
       "      <td>1.0</td>\n",
       "      <td>1.0</td>\n",
       "      <td>1.0</td>\n",
       "      <td>1.0</td>\n",
       "      <td>1.0</td>\n",
       "      <td>...</td>\n",
       "      <td>1.0</td>\n",
       "      <td>1.0</td>\n",
       "      <td>1.0</td>\n",
       "      <td>1.0</td>\n",
       "      <td>1.0</td>\n",
       "      <td>1.0</td>\n",
       "      <td>1.0</td>\n",
       "      <td>1.0</td>\n",
       "      <td>1.0</td>\n",
       "      <td>1.0</td>\n",
       "    </tr>\n",
       "    <tr>\n",
       "      <th>mean</th>\n",
       "      <td>20330.0</td>\n",
       "      <td>14.0</td>\n",
       "      <td>449241.0</td>\n",
       "      <td>451985.0</td>\n",
       "      <td>455705.0</td>\n",
       "      <td>463561.0</td>\n",
       "      <td>472297.0</td>\n",
       "      <td>481644.0</td>\n",
       "      <td>491158.0</td>\n",
       "      <td>500993.0</td>\n",
       "      <td>...</td>\n",
       "      <td>1558207.0</td>\n",
       "      <td>1581600.0</td>\n",
       "      <td>1587652.0</td>\n",
       "      <td>1580236.0</td>\n",
       "      <td>1553500.0</td>\n",
       "      <td>1521513.0</td>\n",
       "      <td>1489008.0</td>\n",
       "      <td>1466578.0</td>\n",
       "      <td>1447627.0</td>\n",
       "      <td>1438754.0</td>\n",
       "    </tr>\n",
       "    <tr>\n",
       "      <th>std</th>\n",
       "      <td>NaN</td>\n",
       "      <td>NaN</td>\n",
       "      <td>NaN</td>\n",
       "      <td>NaN</td>\n",
       "      <td>NaN</td>\n",
       "      <td>NaN</td>\n",
       "      <td>NaN</td>\n",
       "      <td>NaN</td>\n",
       "      <td>NaN</td>\n",
       "      <td>NaN</td>\n",
       "      <td>...</td>\n",
       "      <td>NaN</td>\n",
       "      <td>NaN</td>\n",
       "      <td>NaN</td>\n",
       "      <td>NaN</td>\n",
       "      <td>NaN</td>\n",
       "      <td>NaN</td>\n",
       "      <td>NaN</td>\n",
       "      <td>NaN</td>\n",
       "      <td>NaN</td>\n",
       "      <td>NaN</td>\n",
       "    </tr>\n",
       "    <tr>\n",
       "      <th>min</th>\n",
       "      <td>20330.0</td>\n",
       "      <td>14.0</td>\n",
       "      <td>449241.0</td>\n",
       "      <td>451985.0</td>\n",
       "      <td>455705.0</td>\n",
       "      <td>463561.0</td>\n",
       "      <td>472297.0</td>\n",
       "      <td>481644.0</td>\n",
       "      <td>491158.0</td>\n",
       "      <td>500993.0</td>\n",
       "      <td>...</td>\n",
       "      <td>1558207.0</td>\n",
       "      <td>1581600.0</td>\n",
       "      <td>1587652.0</td>\n",
       "      <td>1580236.0</td>\n",
       "      <td>1553500.0</td>\n",
       "      <td>1521513.0</td>\n",
       "      <td>1489008.0</td>\n",
       "      <td>1466578.0</td>\n",
       "      <td>1447627.0</td>\n",
       "      <td>1438754.0</td>\n",
       "    </tr>\n",
       "    <tr>\n",
       "      <th>25%</th>\n",
       "      <td>20330.0</td>\n",
       "      <td>14.0</td>\n",
       "      <td>449241.0</td>\n",
       "      <td>451985.0</td>\n",
       "      <td>455705.0</td>\n",
       "      <td>463561.0</td>\n",
       "      <td>472297.0</td>\n",
       "      <td>481644.0</td>\n",
       "      <td>491158.0</td>\n",
       "      <td>500993.0</td>\n",
       "      <td>...</td>\n",
       "      <td>1558207.0</td>\n",
       "      <td>1581600.0</td>\n",
       "      <td>1587652.0</td>\n",
       "      <td>1580236.0</td>\n",
       "      <td>1553500.0</td>\n",
       "      <td>1521513.0</td>\n",
       "      <td>1489008.0</td>\n",
       "      <td>1466578.0</td>\n",
       "      <td>1447627.0</td>\n",
       "      <td>1438754.0</td>\n",
       "    </tr>\n",
       "    <tr>\n",
       "      <th>50%</th>\n",
       "      <td>20330.0</td>\n",
       "      <td>14.0</td>\n",
       "      <td>449241.0</td>\n",
       "      <td>451985.0</td>\n",
       "      <td>455705.0</td>\n",
       "      <td>463561.0</td>\n",
       "      <td>472297.0</td>\n",
       "      <td>481644.0</td>\n",
       "      <td>491158.0</td>\n",
       "      <td>500993.0</td>\n",
       "      <td>...</td>\n",
       "      <td>1558207.0</td>\n",
       "      <td>1581600.0</td>\n",
       "      <td>1587652.0</td>\n",
       "      <td>1580236.0</td>\n",
       "      <td>1553500.0</td>\n",
       "      <td>1521513.0</td>\n",
       "      <td>1489008.0</td>\n",
       "      <td>1466578.0</td>\n",
       "      <td>1447627.0</td>\n",
       "      <td>1438754.0</td>\n",
       "    </tr>\n",
       "    <tr>\n",
       "      <th>75%</th>\n",
       "      <td>20330.0</td>\n",
       "      <td>14.0</td>\n",
       "      <td>449241.0</td>\n",
       "      <td>451985.0</td>\n",
       "      <td>455705.0</td>\n",
       "      <td>463561.0</td>\n",
       "      <td>472297.0</td>\n",
       "      <td>481644.0</td>\n",
       "      <td>491158.0</td>\n",
       "      <td>500993.0</td>\n",
       "      <td>...</td>\n",
       "      <td>1558207.0</td>\n",
       "      <td>1581600.0</td>\n",
       "      <td>1587652.0</td>\n",
       "      <td>1580236.0</td>\n",
       "      <td>1553500.0</td>\n",
       "      <td>1521513.0</td>\n",
       "      <td>1489008.0</td>\n",
       "      <td>1466578.0</td>\n",
       "      <td>1447627.0</td>\n",
       "      <td>1438754.0</td>\n",
       "    </tr>\n",
       "    <tr>\n",
       "      <th>max</th>\n",
       "      <td>20330.0</td>\n",
       "      <td>14.0</td>\n",
       "      <td>449241.0</td>\n",
       "      <td>451985.0</td>\n",
       "      <td>455705.0</td>\n",
       "      <td>463561.0</td>\n",
       "      <td>472297.0</td>\n",
       "      <td>481644.0</td>\n",
       "      <td>491158.0</td>\n",
       "      <td>500993.0</td>\n",
       "      <td>...</td>\n",
       "      <td>1558207.0</td>\n",
       "      <td>1581600.0</td>\n",
       "      <td>1587652.0</td>\n",
       "      <td>1580236.0</td>\n",
       "      <td>1553500.0</td>\n",
       "      <td>1521513.0</td>\n",
       "      <td>1489008.0</td>\n",
       "      <td>1466578.0</td>\n",
       "      <td>1447627.0</td>\n",
       "      <td>1438754.0</td>\n",
       "    </tr>\n",
       "  </tbody>\n",
       "</table>\n",
       "<p>8 rows × 278 columns</p>\n",
       "</div>"
      ],
      "text/plain": [
       "       RegionID  SizeRank  2000-01-31  2000-02-29  2000-03-31  2000-04-30  \\\n",
       "count       1.0       1.0         1.0         1.0         1.0         1.0   \n",
       "mean    20330.0      14.0    449241.0    451985.0    455705.0    463561.0   \n",
       "std         NaN       NaN         NaN         NaN         NaN         NaN   \n",
       "min     20330.0      14.0    449241.0    451985.0    455705.0    463561.0   \n",
       "25%     20330.0      14.0    449241.0    451985.0    455705.0    463561.0   \n",
       "50%     20330.0      14.0    449241.0    451985.0    455705.0    463561.0   \n",
       "75%     20330.0      14.0    449241.0    451985.0    455705.0    463561.0   \n",
       "max     20330.0      14.0    449241.0    451985.0    455705.0    463561.0   \n",
       "\n",
       "       2000-05-31  2000-06-30  2000-07-31  2000-08-31  ...  2022-03-31  \\\n",
       "count         1.0         1.0         1.0         1.0  ...         1.0   \n",
       "mean     472297.0    481644.0    491158.0    500993.0  ...   1558207.0   \n",
       "std           NaN         NaN         NaN         NaN  ...         NaN   \n",
       "min      472297.0    481644.0    491158.0    500993.0  ...   1558207.0   \n",
       "25%      472297.0    481644.0    491158.0    500993.0  ...   1558207.0   \n",
       "50%      472297.0    481644.0    491158.0    500993.0  ...   1558207.0   \n",
       "75%      472297.0    481644.0    491158.0    500993.0  ...   1558207.0   \n",
       "max      472297.0    481644.0    491158.0    500993.0  ...   1558207.0   \n",
       "\n",
       "       2022-04-30  2022-05-31  2022-06-30  2022-07-31  2022-08-31  2022-09-30  \\\n",
       "count         1.0         1.0         1.0         1.0         1.0         1.0   \n",
       "mean    1581600.0   1587652.0   1580236.0   1553500.0   1521513.0   1489008.0   \n",
       "std           NaN         NaN         NaN         NaN         NaN         NaN   \n",
       "min     1581600.0   1587652.0   1580236.0   1553500.0   1521513.0   1489008.0   \n",
       "25%     1581600.0   1587652.0   1580236.0   1553500.0   1521513.0   1489008.0   \n",
       "50%     1581600.0   1587652.0   1580236.0   1553500.0   1521513.0   1489008.0   \n",
       "75%     1581600.0   1587652.0   1580236.0   1553500.0   1521513.0   1489008.0   \n",
       "max     1581600.0   1587652.0   1580236.0   1553500.0   1521513.0   1489008.0   \n",
       "\n",
       "       2022-10-31  2022-11-30  2022-12-31  \n",
       "count         1.0         1.0         1.0  \n",
       "mean    1466578.0   1447627.0   1438754.0  \n",
       "std           NaN         NaN         NaN  \n",
       "min     1466578.0   1447627.0   1438754.0  \n",
       "25%     1466578.0   1447627.0   1438754.0  \n",
       "50%     1466578.0   1447627.0   1438754.0  \n",
       "75%     1466578.0   1447627.0   1438754.0  \n",
       "max     1466578.0   1447627.0   1438754.0  \n",
       "\n",
       "[8 rows x 278 columns]"
      ]
     },
     "execution_count": 7,
     "metadata": {},
     "output_type": "execute_result"
    }
   ],
   "source": [
    "# Show the information of the new dataset\n",
    "\n",
    "zillow_sf.describe()"
   ]
  },
  {
   "cell_type": "code",
   "execution_count": 8,
   "id": "6cbc12e1",
   "metadata": {},
   "outputs": [
    {
     "data": {
      "text/plain": [
       "False"
      ]
     },
     "execution_count": 8,
     "metadata": {},
     "output_type": "execute_result"
    }
   ],
   "source": [
    "# Check is there null value\n",
    "\n",
    "zillow_sf.isnull().values.any()\n",
    "\n",
    "## False means there is no null or missing value in the dataset"
   ]
  },
  {
   "cell_type": "code",
   "execution_count": 9,
   "id": "c0da51b6",
   "metadata": {},
   "outputs": [],
   "source": [
    "# Transform the columns into rows\n",
    "\n",
    "zillow_sf_trans = zillow_sf.transpose()"
   ]
  },
  {
   "cell_type": "code",
   "execution_count": 10,
   "id": "4aee2791",
   "metadata": {},
   "outputs": [
    {
     "data": {
      "text/html": [
       "<div>\n",
       "<style scoped>\n",
       "    .dataframe tbody tr th:only-of-type {\n",
       "        vertical-align: middle;\n",
       "    }\n",
       "\n",
       "    .dataframe tbody tr th {\n",
       "        vertical-align: top;\n",
       "    }\n",
       "\n",
       "    .dataframe thead th {\n",
       "        text-align: right;\n",
       "    }\n",
       "</style>\n",
       "<table border=\"1\" class=\"dataframe\">\n",
       "  <thead>\n",
       "    <tr style=\"text-align: right;\">\n",
       "      <th></th>\n",
       "      <th>14</th>\n",
       "    </tr>\n",
       "  </thead>\n",
       "  <tbody>\n",
       "    <tr>\n",
       "      <th>RegionID</th>\n",
       "      <td>20330</td>\n",
       "    </tr>\n",
       "    <tr>\n",
       "      <th>SizeRank</th>\n",
       "      <td>14</td>\n",
       "    </tr>\n",
       "    <tr>\n",
       "      <th>RegionName</th>\n",
       "      <td>San Francisco</td>\n",
       "    </tr>\n",
       "    <tr>\n",
       "      <th>RegionType</th>\n",
       "      <td>city</td>\n",
       "    </tr>\n",
       "    <tr>\n",
       "      <th>StateName</th>\n",
       "      <td>CA</td>\n",
       "    </tr>\n",
       "    <tr>\n",
       "      <th>State</th>\n",
       "      <td>CA</td>\n",
       "    </tr>\n",
       "    <tr>\n",
       "      <th>Metro</th>\n",
       "      <td>San Francisco-Oakland-Berkeley, CA</td>\n",
       "    </tr>\n",
       "    <tr>\n",
       "      <th>CountyName</th>\n",
       "      <td>San Francisco County</td>\n",
       "    </tr>\n",
       "    <tr>\n",
       "      <th>2000-01-31</th>\n",
       "      <td>449241.0</td>\n",
       "    </tr>\n",
       "    <tr>\n",
       "      <th>2000-02-29</th>\n",
       "      <td>451985.0</td>\n",
       "    </tr>\n",
       "  </tbody>\n",
       "</table>\n",
       "</div>"
      ],
      "text/plain": [
       "                                            14\n",
       "RegionID                                 20330\n",
       "SizeRank                                    14\n",
       "RegionName                       San Francisco\n",
       "RegionType                                city\n",
       "StateName                                   CA\n",
       "State                                       CA\n",
       "Metro       San Francisco-Oakland-Berkeley, CA\n",
       "CountyName                San Francisco County\n",
       "2000-01-31                            449241.0\n",
       "2000-02-29                            451985.0"
      ]
     },
     "execution_count": 10,
     "metadata": {},
     "output_type": "execute_result"
    }
   ],
   "source": [
    "# Show the information of the new dataset\n",
    "\n",
    "zillow_sf_trans.head(10)"
   ]
  },
  {
   "cell_type": "code",
   "execution_count": 11,
   "id": "5b18c793",
   "metadata": {},
   "outputs": [],
   "source": [
    "# Slice the dataframe only for date and price\n",
    "\n",
    "zillow_sf_slice = zillow_sf_trans.iloc[8:,:]"
   ]
  },
  {
   "cell_type": "code",
   "execution_count": 12,
   "id": "d163be38",
   "metadata": {},
   "outputs": [
    {
     "data": {
      "text/html": [
       "<div>\n",
       "<style scoped>\n",
       "    .dataframe tbody tr th:only-of-type {\n",
       "        vertical-align: middle;\n",
       "    }\n",
       "\n",
       "    .dataframe tbody tr th {\n",
       "        vertical-align: top;\n",
       "    }\n",
       "\n",
       "    .dataframe thead th {\n",
       "        text-align: right;\n",
       "    }\n",
       "</style>\n",
       "<table border=\"1\" class=\"dataframe\">\n",
       "  <thead>\n",
       "    <tr style=\"text-align: right;\">\n",
       "      <th></th>\n",
       "      <th>14</th>\n",
       "    </tr>\n",
       "  </thead>\n",
       "  <tbody>\n",
       "    <tr>\n",
       "      <th>2000-01-31</th>\n",
       "      <td>449241.0</td>\n",
       "    </tr>\n",
       "    <tr>\n",
       "      <th>2000-02-29</th>\n",
       "      <td>451985.0</td>\n",
       "    </tr>\n",
       "    <tr>\n",
       "      <th>2000-03-31</th>\n",
       "      <td>455705.0</td>\n",
       "    </tr>\n",
       "    <tr>\n",
       "      <th>2000-04-30</th>\n",
       "      <td>463561.0</td>\n",
       "    </tr>\n",
       "    <tr>\n",
       "      <th>2000-05-31</th>\n",
       "      <td>472297.0</td>\n",
       "    </tr>\n",
       "  </tbody>\n",
       "</table>\n",
       "</div>"
      ],
      "text/plain": [
       "                  14\n",
       "2000-01-31  449241.0\n",
       "2000-02-29  451985.0\n",
       "2000-03-31  455705.0\n",
       "2000-04-30  463561.0\n",
       "2000-05-31  472297.0"
      ]
     },
     "execution_count": 12,
     "metadata": {},
     "output_type": "execute_result"
    }
   ],
   "source": [
    "# Show the new dataframe just to check\n",
    "\n",
    "zillow_sf_slice.head()"
   ]
  },
  {
   "cell_type": "code",
   "execution_count": 13,
   "id": "70209237",
   "metadata": {},
   "outputs": [
    {
     "data": {
      "text/html": [
       "<div>\n",
       "<style scoped>\n",
       "    .dataframe tbody tr th:only-of-type {\n",
       "        vertical-align: middle;\n",
       "    }\n",
       "\n",
       "    .dataframe tbody tr th {\n",
       "        vertical-align: top;\n",
       "    }\n",
       "\n",
       "    .dataframe thead th {\n",
       "        text-align: right;\n",
       "    }\n",
       "</style>\n",
       "<table border=\"1\" class=\"dataframe\">\n",
       "  <thead>\n",
       "    <tr style=\"text-align: right;\">\n",
       "      <th></th>\n",
       "      <th>Price</th>\n",
       "    </tr>\n",
       "  </thead>\n",
       "  <tbody>\n",
       "    <tr>\n",
       "      <th>2000-01-31</th>\n",
       "      <td>449241.0</td>\n",
       "    </tr>\n",
       "    <tr>\n",
       "      <th>2000-02-29</th>\n",
       "      <td>451985.0</td>\n",
       "    </tr>\n",
       "    <tr>\n",
       "      <th>2000-03-31</th>\n",
       "      <td>455705.0</td>\n",
       "    </tr>\n",
       "    <tr>\n",
       "      <th>2000-04-30</th>\n",
       "      <td>463561.0</td>\n",
       "    </tr>\n",
       "    <tr>\n",
       "      <th>2000-05-31</th>\n",
       "      <td>472297.0</td>\n",
       "    </tr>\n",
       "  </tbody>\n",
       "</table>\n",
       "</div>"
      ],
      "text/plain": [
       "               Price\n",
       "2000-01-31  449241.0\n",
       "2000-02-29  451985.0\n",
       "2000-03-31  455705.0\n",
       "2000-04-30  463561.0\n",
       "2000-05-31  472297.0"
      ]
     },
     "execution_count": 13,
     "metadata": {},
     "output_type": "execute_result"
    }
   ],
   "source": [
    "# Rename the columns\n",
    "\n",
    "zillow_sf_slice.columns = ['Price']\n",
    "df = pd.DataFrame(zillow_sf_slice, columns=['Price'])\n",
    "df.head()"
   ]
  },
  {
   "cell_type": "code",
   "execution_count": 14,
   "id": "8a663e6a",
   "metadata": {},
   "outputs": [],
   "source": [
    "# Set the price values as integer\n",
    "\n",
    "df['Price'] = df['Price'].astype(int)"
   ]
  },
  {
   "cell_type": "code",
   "execution_count": 15,
   "id": "6a2b8c87",
   "metadata": {},
   "outputs": [
    {
     "name": "stdout",
     "output_type": "stream",
     "text": [
      "              Price\n",
      "2000-01-31   449241\n",
      "2000-02-29   451985\n",
      "2000-03-31   455705\n",
      "2000-04-30   463561\n",
      "2000-05-31   472297\n",
      "...             ...\n",
      "2022-08-31  1521513\n",
      "2022-09-30  1489008\n",
      "2022-10-31  1466578\n",
      "2022-11-30  1447627\n",
      "2022-12-31  1438754\n",
      "\n",
      "[276 rows x 1 columns]\n"
     ]
    }
   ],
   "source": [
    "# Check the data types\n",
    "\n",
    "df.dtypes\n",
    "print(df)"
   ]
  },
  {
   "cell_type": "code",
   "execution_count": 16,
   "id": "06fd67e6",
   "metadata": {},
   "outputs": [
    {
     "data": {
      "text/plain": [
       "Text(0, 0.5, 'Price')"
      ]
     },
     "execution_count": 16,
     "metadata": {},
     "output_type": "execute_result"
    },
    {
     "data": {
      "image/png": "[encoded data removed]",
      "text/plain": [
       "<Figure size 864x576 with 1 Axes>"
      ]
     },
     "metadata": {
      "needs_background": "light"
     },
     "output_type": "display_data"
    }
   ],
   "source": [
    "#Plot the trend of housing price\n",
    "\n",
    "df.plot(figsize=(12,8))\n",
    "plt.title(\"Trend of Housing Price in San Francisco\")\n",
    "plt.xlabel(\"Date\")\n",
    "plt.ylabel(\"Price\")"
   ]
  },
  {
   "cell_type": "code",
   "execution_count": 17,
   "id": "c9560a44",
   "metadata": {},
   "outputs": [
    {
     "name": "stdout",
     "output_type": "stream",
     "text": [
      "        Price\n",
      "2000   489519\n",
      "2001   581427\n",
      "2002   593934\n",
      "2003   639380\n",
      "2004   723950\n",
      "2005   845823\n",
      "2006   878150\n",
      "2007   891113\n",
      "2008   849334\n",
      "2009   762785\n",
      "2010   750000\n",
      "2011   704112\n",
      "2012   733369\n",
      "2013   869220\n",
      "2014   990143\n",
      "2015  1110211\n",
      "2016  1191401\n",
      "2017  1228509\n",
      "2018  1359714\n",
      "2019  1384197\n",
      "2020  1396996\n",
      "2021  1440931\n",
      "2022  1522927\n"
     ]
    }
   ],
   "source": [
    "#Calculate the average price for each year\n",
    "\n",
    "df.index = pd.to_datetime(df.index)\n",
    "grouped = df.groupby(df.index.year)\n",
    "df_avg = grouped.mean().astype(int)\n",
    "print(df_avg)"
   ]
  },
  {
   "cell_type": "code",
   "execution_count": 18,
   "id": "d8a4ad6a",
   "metadata": {},
   "outputs": [
    {
     "data": {
      "text/plain": [
       "Text(0, 0.5, 'Price')"
      ]
     },
     "execution_count": 18,
     "metadata": {},
     "output_type": "execute_result"
    },
    {
     "data": {
      "image/png": "[encoded data removed]",
      "text/plain": [
       "<Figure size 864x576 with 1 Axes>"
      ]
     },
     "metadata": {
      "needs_background": "light"
     },
     "output_type": "display_data"
    }
   ],
   "source": [
    "#Plot the average price for each year\n",
    "\n",
    "df_avg.plot(figsize=(12,8))\n",
    "plt.title(\"Average Housing Price in San Francisco by Year\")\n",
    "plt.xlabel(\"Year\")\n",
    "plt.ylabel(\"Price\")"
   ]
  },
  {
   "cell_type": "code",
   "execution_count": 19,
   "id": "dcd3be90",
   "metadata": {},
   "outputs": [
    {
     "name": "stdout",
     "output_type": "stream",
     "text": [
      "        Price   %_Change\n",
      "2000   489519        NaN\n",
      "2001   581427  18.775165\n",
      "2002   593934   2.151087\n",
      "2003   639380   7.651692\n",
      "2004   723950  13.226876\n",
      "2005   845823  16.834450\n",
      "2006   878150   3.821958\n",
      "2007   891113   1.476171\n",
      "2008   849334  -4.688407\n",
      "2009   762785 -10.190220\n",
      "2010   750000  -1.676095\n",
      "2011   704112  -6.118400\n",
      "2012   733369   4.155163\n",
      "2013   869220  18.524235\n",
      "2014   990143  13.911668\n",
      "2015  1110211  12.126329\n",
      "2016  1191401   7.313024\n",
      "2017  1228509   3.114652\n",
      "2018  1359714  10.680019\n",
      "2019  1384197   1.800599\n",
      "2020  1396996   0.924652\n",
      "2021  1440931   3.144962\n",
      "2022  1522927   5.690488\n"
     ]
    }
   ],
   "source": [
    "# Analyze the changes of average price per year, and add new column for %changes\n",
    "\n",
    "df_avg['%_Change'] = (df_avg['Price'] / df_avg['Price'].shift(1) - 1) * 100\n",
    "print(df_avg)"
   ]
  },
  {
   "cell_type": "code",
   "execution_count": 20,
   "id": "11c1fcf9",
   "metadata": {},
   "outputs": [
    {
     "data": {
      "text/plain": [
       "Text(0, 0.5, 'Percentage Change')"
      ]
     },
     "execution_count": 20,
     "metadata": {},
     "output_type": "execute_result"
    },
    {
     "data": {
      "image/png": "[encoded data removed]",
      "text/plain": [
       "<Figure size 864x576 with 1 Axes>"
      ]
     },
     "metadata": {
      "needs_background": "light"
     },
     "output_type": "display_data"
    }
   ],
   "source": [
    "# Plot the changes of average price per year as bar graph\n",
    "\n",
    "df_avg['%_Change'].plot(kind='bar', figsize=(12,8))\n",
    "plt.title(\"Percentage Changes of Average Housing Price in San Francisco by Year\")\n",
    "plt.xlabel(\"Year\")\n",
    "plt.ylabel(\"Percentage Change\")"
   ]
  },
  {
   "cell_type": "code",
   "execution_count": 21,
   "id": "e6def9c2",
   "metadata": {},
   "outputs": [
    {
     "name": "stdout",
     "output_type": "stream",
     "text": [
      "    Year    Price   %_Change\n",
      "0   2000   489519        NaN\n",
      "1   2001   581427  18.775165\n",
      "2   2002   593934   2.151087\n",
      "3   2003   639380   7.651692\n",
      "4   2004   723950  13.226876\n",
      "5   2005   845823  16.834450\n",
      "6   2006   878150   3.821958\n",
      "7   2007   891113   1.476171\n",
      "8   2008   849334  -4.688407\n",
      "9   2009   762785 -10.190220\n",
      "10  2010   750000  -1.676095\n",
      "11  2011   704112  -6.118400\n",
      "12  2012   733369   4.155163\n",
      "13  2013   869220  18.524235\n",
      "14  2014   990143  13.911668\n",
      "15  2015  1110211  12.126329\n",
      "16  2016  1191401   7.313024\n",
      "17  2017  1228509   3.114652\n",
      "18  2018  1359714  10.680019\n",
      "19  2019  1384197   1.800599\n",
      "20  2020  1396996   0.924652\n",
      "21  2021  1440931   3.144962\n",
      "22  2022  1522927   5.690488\n"
     ]
    }
   ],
   "source": [
    "# Rename the index to Year\n",
    "\n",
    "df_avg.reset_index(inplace=True)\n",
    "df_avg_copy = df_avg.rename(columns={'index': 'Year'})\n",
    "print(df_avg_copy)"
   ]
  },
  {
   "cell_type": "code",
   "execution_count": 22,
   "id": "72129aa8",
   "metadata": {},
   "outputs": [
    {
     "data": {
      "text/plain": [
       "<seaborn.axisgrid.FacetGrid at 0x2786d6f6970>"
      ]
     },
     "execution_count": 22,
     "metadata": {},
     "output_type": "execute_result"
    },
    {
     "data": {
      "image/png": "[encoded data removed]",
      "text/plain": [
       "<Figure size 360x360 with 1 Axes>"
      ]
     },
     "metadata": {
      "needs_background": "light"
     },
     "output_type": "display_data"
    }
   ],
   "source": [
    "# Create a linear fit plot\n",
    "sns.lmplot(x='Year',y='Price',data = df_avg_copy)"
   ]
  },
  {
   "cell_type": "code",
   "execution_count": 23,
   "id": "b57b5a4f",
   "metadata": {},
   "outputs": [
    {
     "name": "stdout",
     "output_type": "stream",
     "text": [
      "                            OLS Regression Results                            \n",
      "==============================================================================\n",
      "Dep. Variable:                  Price   R-squared:                       0.856\n",
      "Model:                            OLS   Adj. R-squared:                  0.850\n",
      "Method:                 Least Squares   F-statistic:                     125.3\n",
      "Date:                Tue, 31 Jan 2023   Prob (F-statistic):           2.61e-10\n",
      "Time:                        00:32:53   Log-Likelihood:                -300.71\n",
      "No. Observations:                  23   AIC:                             605.4\n",
      "Df Residuals:                      21   BIC:                             607.7\n",
      "Df Model:                           1                                         \n",
      "Covariance Type:            nonrobust                                         \n",
      "==============================================================================\n",
      "                 coef    std err          t      P>|t|      [0.025      0.975]\n",
      "------------------------------------------------------------------------------\n",
      "Intercept  -8.441e+07   7.63e+06    -11.066      0.000      -1e+08   -6.85e+07\n",
      "Year        4.245e+04   3792.768     11.192      0.000    3.46e+04    5.03e+04\n",
      "==============================================================================\n",
      "Omnibus:                        4.488   Durbin-Watson:                   0.263\n",
      "Prob(Omnibus):                  0.106   Jarque-Bera (JB):                3.524\n",
      "Skew:                          -0.957   Prob(JB):                        0.172\n",
      "Kurtosis:                       2.874   Cond. No.                     6.10e+05\n",
      "==============================================================================\n",
      "\n",
      "Notes:\n",
      "[1] Standard Errors assume that the covariance matrix of the errors is correctly specified.\n",
      "[2] The condition number is large, 6.1e+05. This might indicate that there are\n",
      "strong multicollinearity or other numerical problems.\n"
     ]
    }
   ],
   "source": [
    "# Create a fitted model\n",
    "lm = smf.ols(formula='Price ~ Year', data = df_avg_copy).fit()\n",
    "\n",
    "# Print model summary\n",
    "print(lm.summary())"
   ]
  },
  {
   "cell_type": "code",
   "execution_count": 32,
   "id": "e0ae7cd0",
   "metadata": {},
   "outputs": [
    {
     "name": "stdout",
     "output_type": "stream",
     "text": [
      "The predicted average housing price in San Francisco for year 2023 is $1,463,153.328\n"
     ]
    }
   ],
   "source": [
    "# Make the prediction for average housing price in San Francisco for year 2023\n",
    "\n",
    "pred_2023 = lm.predict({'Year': [2023]})\n",
    "pred_2023 = pred_2023.item()\n",
    "pred_2023y = \"${:,.3f}\".format(pred_2023)\n",
    "print(\"The predicted average housing price in San Francisco for year 2023 is\", pred_2023y)"
   ]
  },
  {
   "cell_type": "code",
   "execution_count": null,
   "id": "8dfee235",
   "metadata": {},
   "outputs": [],
   "source": []
  }
 ],
 "metadata": {
  "kernelspec": {
   "display_name": "Python 3 (ipykernel)",
   "language": "python",
   "name": "python3"
  },
  "language_info": {
   "codemirror_mode": {
    "name": "ipython",
    "version": 3
   },
   "file_extension": ".py",
   "mimetype": "text/x-python",
   "name": "python",
   "nbconvert_exporter": "python",
   "pygments_lexer": "ipython3",
   "version": "3.9.7"
  }
 },
 "nbformat": 4,
 "nbformat_minor": 5
}
